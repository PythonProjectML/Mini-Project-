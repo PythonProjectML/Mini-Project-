{
  "nbformat": 4,
  "nbformat_minor": 0,
  "metadata": {
    "colab": {
      "name": "Image Classification.ipynb",
      "provenance": [],
      "collapsed_sections": [],
      "mount_file_id": "15dhDdIzN3y_45ciV20HnCKTj60Z36Itk",
      "authorship_tag": "ABX9TyNA5cKwBn/3WzynzM3q2eiL",
      "include_colab_link": true
    },
    "kernelspec": {
      "display_name": "Python 3",
      "name": "python3"
    },
    "language_info": {
      "name": "python"
    }
  },
  "cells": [
    {
      "cell_type": "markdown",
      "metadata": {
        "id": "view-in-github",
        "colab_type": "text"
      },
      "source": [
        "<a href=\"https://colab.research.google.com/github/PythonProjectML/Mini-Project-/blob/main/Image_Classification.ipynb\" target=\"_parent\"><img src=\"https://colab.research.google.com/assets/colab-badge.svg\" alt=\"Open In Colab\"/></a>"
      ]
    },
    {
      "cell_type": "code",
      "metadata": {
        "id": "J6I5O_kGn7-r"
      },
      "source": [
        "from google.colab import drive\n",
        "drive.mount('/content/drive')"
      ],
      "execution_count": null,
      "outputs": []
    },
    {
      "cell_type": "code",
      "metadata": {
        "id": "gf0rwE1-Rjc2",
        "colab": {
          "base_uri": "https://localhost:8080/"
        },
        "outputId": "49cfeaf2-a5b9-46ff-c119-52793d9c72aa"
      },
      "source": [
        "!pip install ipython-autotime\n",
        "%load_ext autotime"
      ],
      "execution_count": null,
      "outputs": [
        {
          "output_type": "stream",
          "text": [
            "Requirement already satisfied: ipython-autotime in /usr/local/lib/python3.7/dist-packages (0.3.1)\n",
            "Requirement already satisfied: ipython in /usr/local/lib/python3.7/dist-packages (from ipython-autotime) (5.5.0)\n",
            "Requirement already satisfied: setuptools>=18.5 in /usr/local/lib/python3.7/dist-packages (from ipython->ipython-autotime) (56.1.0)\n",
            "Requirement already satisfied: decorator in /usr/local/lib/python3.7/dist-packages (from ipython->ipython-autotime) (4.4.2)\n",
            "Requirement already satisfied: pexpect; sys_platform != \"win32\" in /usr/local/lib/python3.7/dist-packages (from ipython->ipython-autotime) (4.8.0)\n",
            "Requirement already satisfied: pygments in /usr/local/lib/python3.7/dist-packages (from ipython->ipython-autotime) (2.6.1)\n",
            "Requirement already satisfied: pickleshare in /usr/local/lib/python3.7/dist-packages (from ipython->ipython-autotime) (0.7.5)\n",
            "Requirement already satisfied: prompt-toolkit<2.0.0,>=1.0.4 in /usr/local/lib/python3.7/dist-packages (from ipython->ipython-autotime) (1.0.18)\n",
            "Requirement already satisfied: traitlets>=4.2 in /usr/local/lib/python3.7/dist-packages (from ipython->ipython-autotime) (5.0.5)\n",
            "Requirement already satisfied: simplegeneric>0.8 in /usr/local/lib/python3.7/dist-packages (from ipython->ipython-autotime) (0.8.1)\n",
            "Requirement already satisfied: ptyprocess>=0.5 in /usr/local/lib/python3.7/dist-packages (from pexpect; sys_platform != \"win32\"->ipython->ipython-autotime) (0.7.0)\n",
            "Requirement already satisfied: six>=1.9.0 in /usr/local/lib/python3.7/dist-packages (from prompt-toolkit<2.0.0,>=1.0.4->ipython->ipython-autotime) (1.15.0)\n",
            "Requirement already satisfied: wcwidth in /usr/local/lib/python3.7/dist-packages (from prompt-toolkit<2.0.0,>=1.0.4->ipython->ipython-autotime) (0.2.5)\n",
            "Requirement already satisfied: ipython-genutils in /usr/local/lib/python3.7/dist-packages (from traitlets>=4.2->ipython->ipython-autotime) (0.2.0)\n",
            "The autotime extension is already loaded. To reload it, use:\n",
            "  %reload_ext autotime\n",
            "time: 2.95 s (started: 2021-05-20 12:54:39 +00:00)\n"
          ],
          "name": "stdout"
        }
      ]
    },
    {
      "cell_type": "code",
      "metadata": {
        "id": "rBQD8LNnyLDQ",
        "colab": {
          "base_uri": "https://localhost:8080/"
        },
        "outputId": "5600b94b-eb59-4314-a6b9-6257198aed27"
      },
      "source": [
        "!pip install bing-image-downloader"
      ],
      "execution_count": null,
      "outputs": [
        {
          "output_type": "stream",
          "text": [
            "Requirement already satisfied: bing-image-downloader in /usr/local/lib/python3.7/dist-packages (1.0.4)\n",
            "time: 3.05 s (started: 2021-05-20 13:15:07 +00:00)\n"
          ],
          "name": "stdout"
        }
      ]
    },
    {
      "cell_type": "code",
      "metadata": {
        "id": "Xu7ttief5Cza",
        "colab": {
          "base_uri": "https://localhost:8080/"
        },
        "outputId": "0a3ad101-014f-476c-b0b3-134e234d8dd7"
      },
      "source": [
        "!mkdir images"
      ],
      "execution_count": null,
      "outputs": [
        {
          "output_type": "stream",
          "text": [
            "mkdir: cannot create directory ‘images’: File exists\n",
            "time: 127 ms (started: 2021-05-20 13:16:39 +00:00)\n"
          ],
          "name": "stdout"
        }
      ]
    },
    {
      "cell_type": "code",
      "metadata": {
        "id": "gQT_iWEZKsQk",
        "colab": {
          "base_uri": "https://localhost:8080/"
        },
        "outputId": "86e42a79-ae55-4cd8-dfea-68e46e70c365"
      },
      "source": [
        "from bing_image_downloader import downloader\n",
        "downloader.download(\"autorickshaws\",limit=30,output_dir='images',adult_filter_off=True)"
      ],
      "execution_count": null,
      "outputs": [
        {
          "output_type": "stream",
          "text": [
            "\n",
            "\n",
            "[!!]Indexing page: 1\n",
            "\n",
            "[%] Indexed 10 Images on Page 1.\n",
            "\n",
            "===============================================\n",
            "\n",
            "[%] Downloading Image #1 from https://etimg.etb2bimg.com/thumb/msid-78515384,imgsize-568652,width-800,height-434,overlay-etauto/maharashtra-to-reduce-plying-age-limit-of-autorickshaws-to-15-years.jpg\n",
            "[%] File Downloaded !\n",
            "\n",
            "[%] Downloading Image #2 from https://media.dhakatribune.com/uploads/2017/11/cng_strike_mahmud-hossain-opu_22.11.2017.gif\n",
            "[%] File Downloaded !\n",
            "\n",
            "[%] Downloading Image #3 from http://kannadigaworld.com/wp-content/uploads/2014/07/bus_horn_photo_2.jpg\n",
            "[%] File Downloaded !\n",
            "\n",
            "[%] Downloading Image #4 from https://www.panglobaltravels.com/wp-content/uploads/2017/08/562059.jpg\n",
            "[%] File Downloaded !\n",
            "\n",
            "[%] Downloading Image #5 from https://images.yourstory.com/cs/wordpress/2018/03/UdnKhatola.jpg?fm=png&amp;auto=format\n",
            "[%] File Downloaded !\n",
            "\n",
            "[%] Downloading Image #6 from http://blog.themediaant.com/wp-content/uploads/2017/07/Women-Advertising-Ideas.jpg\n",
            "[%] File Downloaded !\n",
            "\n",
            "[%] Downloading Image #7 from https://photos.travelblog.org/Photos/13348/125562/f/896422-Vidhana-Soudha-0.jpg\n",
            "[%] File Downloaded !\n",
            "\n",
            "[%] Downloading Image #8 from https://www.thenewsminute.com/sites/default/files/styles/news_detail/public/1523292335-Angry_Hanuman.jpg?itok=uQdNeBZg\n",
            "[%] File Downloaded !\n",
            "\n",
            "[%] Downloading Image #9 from https://upload.wikimedia.org/wikipedia/commons/thumb/8/8c/Devala_Temple.jpg/1200px-Devala_Temple.jpg\n",
            "[%] File Downloaded !\n",
            "\n",
            "[%] Downloading Image #10 from https://www.bookeventz.com/blog/wp-content/uploads/2019/03/698a2e2ed48c93c99e1ed50cded7a32c.jpg\n",
            "[%] File Downloaded !\n",
            "\n",
            "\n",
            "\n",
            "[!!]Indexing page: 2\n",
            "\n",
            "[%] Indexed 10 Images on Page 2.\n",
            "\n",
            "===============================================\n",
            "\n",
            "[%] Downloading Image #11 from https://etimg.etb2bimg.com/thumb/msid-78515384,imgsize-568652,width-800,height-434,overlay-etauto/maharashtra-to-reduce-plying-age-limit-of-autorickshaws-to-15-years.jpg\n",
            "[%] File Downloaded !\n",
            "\n",
            "[%] Downloading Image #12 from https://media.dhakatribune.com/uploads/2017/11/cng_strike_mahmud-hossain-opu_22.11.2017.gif\n",
            "[%] File Downloaded !\n",
            "\n",
            "[%] Downloading Image #13 from http://kannadigaworld.com/wp-content/uploads/2014/07/bus_horn_photo_2.jpg\n",
            "[%] File Downloaded !\n",
            "\n",
            "[%] Downloading Image #14 from https://www.panglobaltravels.com/wp-content/uploads/2017/08/562059.jpg\n",
            "[%] File Downloaded !\n",
            "\n",
            "[%] Downloading Image #15 from https://images.yourstory.com/cs/wordpress/2018/03/UdnKhatola.jpg?fm=png&amp;auto=format\n",
            "[%] File Downloaded !\n",
            "\n",
            "[%] Downloading Image #16 from http://blog.themediaant.com/wp-content/uploads/2017/07/Women-Advertising-Ideas.jpg\n",
            "[%] File Downloaded !\n",
            "\n",
            "[%] Downloading Image #17 from https://photos.travelblog.org/Photos/13348/125562/f/896422-Vidhana-Soudha-0.jpg\n",
            "[%] File Downloaded !\n",
            "\n",
            "[%] Downloading Image #18 from https://www.thenewsminute.com/sites/default/files/styles/news_detail/public/1523292335-Angry_Hanuman.jpg?itok=uQdNeBZg\n",
            "[%] File Downloaded !\n",
            "\n",
            "[%] Downloading Image #19 from https://upload.wikimedia.org/wikipedia/commons/thumb/8/8c/Devala_Temple.jpg/1200px-Devala_Temple.jpg\n",
            "[%] File Downloaded !\n",
            "\n",
            "[%] Downloading Image #20 from https://www.bookeventz.com/blog/wp-content/uploads/2019/03/698a2e2ed48c93c99e1ed50cded7a32c.jpg\n",
            "[%] File Downloaded !\n",
            "\n",
            "\n",
            "\n",
            "[!!]Indexing page: 3\n",
            "\n",
            "[%] Indexed 9 Images on Page 3.\n",
            "\n",
            "===============================================\n",
            "\n",
            "[%] Downloading Image #21 from http://media.cntraveller.in/wp-content/uploads/2014/11/Rickshaw-Run-Kochi.jpg\n",
            "[%] File Downloaded !\n",
            "\n",
            "[%] Downloading Image #22 from https://akm-img-a-in.tosshub.com/indiatoday/images/story/202006/PTI12-06-2020_000152B.jpeg?FNYABpZ0nWa4GX4LUhZD7nN3HWSv28t6&amp;size=770:433\n",
            "[%] File Downloaded !\n",
            "\n",
            "[%] Downloading Image #23 from http://tourmet.com/wp-content/uploads/2015/01/Panambur-Beach-Mangalore6-e1420528921594.jpg\n",
            "[%] File Downloaded !\n",
            "\n",
            "[%] Downloading Image #24 from https://upload.wikimedia.org/wikipedia/commons/thumb/f/fd/Kharagpur_Railway_Junction_Station_-_Kharagpur_-_West_Midnapore_2013-01-26_3621.JPG/1200px-Kharagpur_Railway_Junction_Station_-_Kharagpur_-_West_Midnapore_2013-01-26_3621.JPG\n",
            "[%] File Downloaded !\n",
            "\n",
            "[%] Downloading Image #25 from https://english.mathrubhumi.com/polopoly_fs/1.1832575.1490766386!/image/image.jpg_gen/derivatives/landscape_894_577/image.jpg\n",
            "[%] File Downloaded !\n",
            "\n",
            "[%] Downloading Image #26 from https://carblogindia.com/wp-content/uploads/2013/05/2013-Bajaj-RE-Autorickshaw-Spyshot-1-720x540.jpg\n",
            "[%] File Downloaded !\n",
            "\n",
            "[%] Downloading Image #27 from http://blog.themediaant.com/wp-content/uploads/2017/08/687f76b5692ac70f7ea721f8bc79fac1.jpg\n",
            "[%] File Downloaded !\n",
            "\n",
            "[%] Downloading Image #28 from https://3.bp.blogspot.com/-u8RteKc4C-g/WSFDse4mGrI/AAAAAAAABEY/Ao0rNo9PNcoKi00x0NWhmlEoDu9OFhY8ACLcB/s1600/Pakhiralaya%2Bvillage%2Bin%2BWest%2BBengal1.jpg\n",
            "[%] File Downloaded !\n",
            "\n",
            "[%] Downloading Image #29 from http://tourmet.com/wp-content/uploads/2015/01/Tyda-Park-Visakhapatnam1.jpg\n",
            "[%] File Downloaded !\n",
            "\n",
            "\n",
            "\n",
            "[!!]Indexing page: 4\n",
            "\n",
            "[%] Indexed 8 Images on Page 4.\n",
            "\n",
            "===============================================\n",
            "\n",
            "[%] Downloading Image #30 from https://cdn.dnaindia.com/sites/default/files/styles/full/public/2016/12/06/526087-jayalalithaa-death-people-crying-after-she-was-declared-dead-afp.jpg\n",
            "[%] File Downloaded !\n",
            "\n",
            "\n",
            "\n",
            "[%] Done. Downloaded 30 images.\n",
            "\n",
            "===============================================\n",
            "\n",
            "time: 25.3 s (started: 2021-05-20 13:16:54 +00:00)\n"
          ],
          "name": "stdout"
        }
      ]
    },
    {
      "cell_type": "code",
      "metadata": {
        "id": "QV7uYZPuPyfM",
        "colab": {
          "base_uri": "https://localhost:8080/"
        },
        "outputId": "37d509b2-85ae-41d5-ccde-6f0bee92f543"
      },
      "source": [
        "from bing_image_downloader import downloader\n",
        "downloader.download(\"rose \",limit=30,output_dir='images',adult_filter_off=True)"
      ],
      "execution_count": null,
      "outputs": [
        {
          "output_type": "stream",
          "text": [
            "\n",
            "\n",
            "[!!]Indexing page: 1\n",
            "\n",
            "[%] Indexed 10 Images on Page 1.\n",
            "\n",
            "===============================================\n",
            "\n",
            "[%] Downloading Image #1 from https://wallpapershome.com/images/wallpapers/roses-1920x1080-5k-4k-wallpaper-flower-bouquet-red-4107.jpg\n",
            "[%] File Downloaded !\n",
            "\n",
            "[%] Downloading Image #2 from https://www.the-british-shop.at/$WS/the-british-shop/websale8_shop-the-british-shop/produkte/medien/bilder/gross/96-0277.jpg\n",
            "[%] File Downloaded !\n",
            "\n",
            "[%] Downloading Image #3 from https://knotwood.com/wp-content/uploads/2014/12/Koa-724x1024.jpg\n",
            "[%] File Downloaded !\n",
            "\n",
            "[%] Downloading Image #4 from https://www.parfumflowercompany.com/wp-content/uploads/2016/02/Free-Spirit-Premium-scented-garden-rose-001.png\n",
            "[%] File Downloaded !\n",
            "\n",
            "[%] Downloading Image #5 from https://pic1.zhimg.com/v2-a27df2dcd8f611666103655cedabc4e8_r.jpg\n",
            "[%] File Downloaded !\n",
            "\n",
            "[%] Downloading Image #6 from https://www.thetreecenter.com/wp-content/uploads/2014/06/knockout-rose-tree.jpg\n",
            "[%] File Downloaded !\n",
            "\n",
            "[%] Downloading Image #7 from http://www.rosesandrings.com/wp-content/uploads/2018/01/rustic-country-burgundy-wedding-sweetheart-table-2.jpg\n",
            "[%] File Downloaded !\n",
            "\n",
            "[%] Downloading Image #8 from https://www.parfumflowercompany.com/wp-content/uploads/2015/10/Juliet-0101.jpg\n",
            "[%] File Downloaded !\n",
            "\n",
            "[%] Downloading Image #9 from http://www.minnesotawildflowers.info/udata/r9ndp23q/yellow/silvery-cinquefoil_0802_135635.jpg\n",
            "[%] File Downloaded !\n",
            "\n",
            "[%] Downloading Image #10 from https://www.parfumflowercompany.com/wp-content/uploads/2016/09/3.png\n",
            "[%] File Downloaded !\n",
            "\n",
            "\n",
            "\n",
            "[!!]Indexing page: 2\n",
            "\n",
            "[%] Indexed 10 Images on Page 2.\n",
            "\n",
            "===============================================\n",
            "\n",
            "[%] Downloading Image #11 from https://www.hdwallpapers.in/download/red_flower_garden-1366x768.jpg\n",
            "[%] File Downloaded !\n",
            "\n",
            "[%] Downloading Image #12 from https://wallpaperforu.com/wp-content/uploads/2020/09/sad-aesthetic-wallpaper-200908152141351440x2560.jpg\n",
            "[%] File Downloaded !\n",
            "\n",
            "[%] Downloading Image #13 from https://www.hdwallpapers.in/download/spring_flower_park-1920x1080.jpg\n",
            "[%] File Downloaded !\n",
            "\n",
            "[%] Downloading Image #14 from http://bodypaintingday.org/wp-content/uploads/use-sophia.jpg\n",
            "[%] File Downloaded !\n",
            "\n",
            "[%] Downloading Image #15 from http://www.aries-wineny.com/wp-content/uploads/2015/12/Baileys.jpg\n",
            "[%] File Downloaded !\n",
            "\n",
            "[%] Downloading Image #16 from https://pic2.zhimg.com/v2-c2d71cc056a037d7b74ed51a31314f39_r.jpg\n",
            "[%] File Downloaded !\n",
            "\n",
            "[%] Downloading Image #17 from https://iphoneswallpapers.com/wp-content/uploads/2016/11/Death-Valley-Road-iPhone-Wallpaper-iphoneswallpapers_com.jpg\n",
            "[%] File Downloaded !\n",
            "\n",
            "[%] Downloading Image #18 from https://i.pinimg.com/736x/72/80/20/728020eb4496cd8ed2ab613b9015ac9f.jpg\n",
            "[%] File Downloaded !\n",
            "\n",
            "[%] Downloading Image #19 from https://pic1.zhimg.com/v2-20cc9075a7513592ba2148d2d0450080_r.jpg\n",
            "[%] File Downloaded !\n",
            "\n",
            "[%] Downloading Image #20 from http://www.j-dphoto.com/images/uploaded/pep_0642__1.jpg\n",
            "[%] File Downloaded !\n",
            "\n",
            "\n",
            "\n",
            "[!!]Indexing page: 3\n",
            "\n",
            "[%] Indexed 9 Images on Page 3.\n",
            "\n",
            "===============================================\n",
            "\n",
            "[%] Downloading Image #21 from https://www.parfumflowercompany.com/wp-content/uploads/2018/05/1.jpg\n",
            "[%] File Downloaded !\n",
            "\n",
            "[%] Downloading Image #22 from https://pic3.zhimg.com/v2-81c43427adc4b8623fcfffc62cee0a12_r.jpg\n",
            "[%] File Downloaded !\n",
            "\n",
            "[%] Downloading Image #23 from https://www.parfumflowercompany.com/wp-content/uploads/2015/11/Patience-015.jpg\n",
            "[%] File Downloaded !\n",
            "\n",
            "[%] Downloading Image #24 from https://www.bestbookcentre.com/categories/jodylblosser/5966WhatsApp Image 2018-12-21 at 7.52.04 AM (4).jpeg\n",
            "[!] Issue getting: https://www.bestbookcentre.com/categories/jodylblosser/5966WhatsApp Image 2018-12-21 at 7.52.04 AM (4).jpeg\n",
            "[!] Error:: URL can't contain control characters. '/categories/jodylblosser/5966WhatsApp Image 2018-12-21 at 7.52.04 AM (4).jpeg' (found at least ' ')\n",
            "[%] Downloading Image #24 from https://www.parfumflowercompany.com/wp-content/uploads/2015/10/White-O-Hara-008.jpg\n",
            "[%] File Downloaded !\n",
            "\n",
            "[%] Downloading Image #25 from http://shamrockroseaussies.com/yahoo_site_admin/assets/images/DSC_0396.79195107_std.JPG\n",
            "[%] File Downloaded !\n",
            "\n",
            "[%] Downloading Image #26 from https://www.elegantweddinginvites.com/wedding-blog/wp-content/uploads/2015/12/white-orchid-weddding-bouquet-ideas.jpg\n",
            "[%] File Downloaded !\n",
            "\n",
            "[%] Downloading Image #27 from https://fashionsy.com/wp-content/uploads/2018/03/rose-brown-hair-9-.jpg\n",
            "[%] File Downloaded !\n",
            "\n",
            "[%] Downloading Image #28 from https://s17708.pcdn.co/wp-content/gallery/deliaxmas/8.JPG\n",
            "[%] File Downloaded !\n",
            "\n",
            "\n",
            "\n",
            "[!!]Indexing page: 4\n",
            "\n",
            "[%] Indexed 8 Images on Page 4.\n",
            "\n",
            "===============================================\n",
            "\n",
            "[%] Downloading Image #29 from https://www.parfumflowercompany.com/wp-content/uploads/2015/10/White-O-Hara-013.jpg\n",
            "[%] File Downloaded !\n",
            "\n",
            "[%] Downloading Image #30 from https://www.notrecinema.com/images/filmsi/la-mome_200109_16830.jpg\n",
            "[%] File Downloaded !\n",
            "\n",
            "\n",
            "\n",
            "[%] Done. Downloaded 30 images.\n",
            "\n",
            "===============================================\n",
            "\n",
            "time: 18.8 s (started: 2021-05-20 13:18:10 +00:00)\n"
          ],
          "name": "stdout"
        }
      ]
    },
    {
      "cell_type": "code",
      "metadata": {
        "id": "_8M7BvSqM3D_",
        "colab": {
          "base_uri": "https://localhost:8080/"
        },
        "outputId": "b6980524-36b8-4a6d-aa6e-a07fdedd5ef3"
      },
      "source": [
        "from bing_image_downloader import downloader\n",
        "downloader.download(\"preety sunflower \",limit=30,output_dir='images',adult_filter_off=True)"
      ],
      "execution_count": null,
      "outputs": [
        {
          "output_type": "stream",
          "text": [
            "\n",
            "\n",
            "[!!]Indexing page: 1\n",
            "\n",
            "[%] Indexed 10 Images on Page 1.\n",
            "\n",
            "===============================================\n",
            "\n",
            "[%] Downloading Image #1 from https://www.askideas.com/media/78/Pink-And-Yellow-Beautiful-Flower-Picture.jpg\n",
            "[%] File Downloaded !\n",
            "\n",
            "[%] Downloading Image #2 from https://inspirationseek.com/wp-content/uploads/2014/05/Lotus-Pretty-Flower.jpg\n",
            "[%] File Downloaded !\n",
            "\n",
            "[%] Downloading Image #3 from https://i.pinimg.com/originals/0a/39/17/0a391776ddc59a2ac405fa58511d0436.jpg\n",
            "[%] File Downloaded !\n",
            "\n",
            "[%] Downloading Image #4 from http://www.freewebs.com/lyndakelly/A Pretty Garden (Small).jpg\n",
            "[!] Issue getting: http://www.freewebs.com/lyndakelly/A Pretty Garden (Small).jpg\n",
            "[!] Error:: URL can't contain control characters. '/lyndakelly/A Pretty Garden (Small).jpg' (found at least ' ')\n",
            "[%] Downloading Image #4 from https://i.pinimg.com/originals/6f/e7/1e/6fe71edf4f50b34df5c8093c58e363a2.jpg\n",
            "[%] File Downloaded !\n",
            "\n",
            "[%] Downloading Image #5 from http://www.jjtheclown.com/flower_and_lady_bug.jpg\n",
            "[%] File Downloaded !\n",
            "\n",
            "[%] Downloading Image #6 from http://images.unsplash.com/photo-1570888916314-69111a00312b?ixlib=rb-1.2.1&amp;q=80&amp;fm=jpg&amp;crop=entropy&amp;cs=tinysrgb&amp;w=1080&amp;fit=max&amp;ixid=eyJhcHBfaWQiOjEyMDd9\n",
            "[%] File Downloaded !\n",
            "\n",
            "[%] Downloading Image #7 from http://thumbs.dreamstime.com/z/pretty-little-girl-26671943.jpg\n",
            "[%] File Downloaded !\n",
            "\n",
            "[%] Downloading Image #8 from https://1.bp.blogspot.com/-vG9X-Adm61I/Xr_AqL9Uw2I/AAAAAAAADHE/xlAFb2YHiA8x_yDBHS73YxyJucu2c0PqwCPcBGAYYCw/s1600/Hand-Cut-Paper-Art-Design-Lisa-Rodden-20.jpg\n",
            "[%] File Downloaded !\n",
            "\n",
            "[%] Downloading Image #9 from https://images-na.ssl-images-amazon.com/images/I/41jE1ZxQZkL._AC_US1000_.jpg\n",
            "[%] File Downloaded !\n",
            "\n",
            "\n",
            "\n",
            "[!!]Indexing page: 2\n",
            "\n",
            "[%] Indexed 10 Images on Page 2.\n",
            "\n",
            "===============================================\n",
            "\n",
            "[%] Downloading Image #10 from http://inspirationseek.com/wp-content/uploads/2014/05/Camellia-Pretty-Flowers-Pictures.jpg\n",
            "[%] File Downloaded !\n",
            "\n",
            "[%] Downloading Image #11 from https://s-media-cache-ak0.pinimg.com/736x/eb/37/30/eb3730b70a9cb0c8fbc07b28930f1b64.jpg\n",
            "[%] File Downloaded !\n",
            "\n",
            "[%] Downloading Image #12 from https://thumbs.dreamstime.com/b/hunter-grasshopper-sunflower-macro-grasshopper-flower-sky-hunter-grasshopper-sunflower-macro-insect-154316219.jpg\n",
            "[%] File Downloaded !\n",
            "\n",
            "[%] Downloading Image #13 from http://banglamirrornews.com/wp-content/uploads/2021/01/PEANUT-IMAGE-11.jpg\n",
            "[%] File Downloaded !\n",
            "\n",
            "[%] Downloading Image #14 from https://i.pinimg.com/236x/e8/a4/ab/e8a4ab83d97dc2fa2a3fdd72322c24cd--preety-girls-flower-girl.jpg\n",
            "[%] File Downloaded !\n",
            "\n",
            "[%] Downloading Image #15 from https://dailyrecipesideas.com/wp-content/uploads/2019/12/quick-and-easy-banana-bread-recipe-inspirational-preety-s-kitchen-quick-and-easy-banana-bread-of-quick-and-easy-banana-bread-recipe.jpg\n",
            "[!] Issue getting: https://dailyrecipesideas.com/wp-content/uploads/2019/12/quick-and-easy-banana-bread-recipe-inspirational-preety-s-kitchen-quick-and-easy-banana-bread-of-quick-and-easy-banana-bread-recipe.jpg\n",
            "[!] Error:: <urlopen error [Errno -5] No address associated with hostname>\n",
            "[%] Downloading Image #15 from https://i.pinimg.com/originals/b6/f3/bc/b6f3bc174f360c4a3e3e1ce5c8d660e2.jpg\n",
            "[%] File Downloaded !\n",
            "\n",
            "[%] Downloading Image #16 from https://i.pinimg.com/736x/1e/9f/97/1e9f97d23070a9538f2b523657178460.jpg\n",
            "[%] File Downloaded !\n",
            "\n",
            "[%] Downloading Image #17 from https://3.bp.blogspot.com/-ulikRogneLM/V9ptjQoMiBI/AAAAAAAANVc/TYqidGK-w9Qh8jtVnTZRMoCYLrP7YZbzACLcB/s1600/smally-girl-enjoing-on-rocks-dust.jpg\n",
            "[%] File Downloaded !\n",
            "\n",
            "[%] Downloading Image #18 from https://d33veqcui7lu1w.cloudfront.net/files/looks/small/2014/01/08/3495832_bike1.jpg?1389213579\n",
            "[%] File Downloaded !\n",
            "\n",
            "\n",
            "\n",
            "[!!]Indexing page: 3\n",
            "\n",
            "[%] Indexed 9 Images on Page 3.\n",
            "\n",
            "===============================================\n",
            "\n",
            "[%] Downloading Image #19 from https://i.pinimg.com/originals/36/68/73/3668732212b6bfcef254284a33cfaf4d.jpg\n",
            "[%] File Downloaded !\n",
            "\n",
            "[%] Downloading Image #20 from https://inspirationseek.com/wp-content/uploads/2014/05/Cherry-Blossom-Pretty-Flowers-Pictures.jpg\n",
            "[%] File Downloaded !\n",
            "\n",
            "[%] Downloading Image #21 from http://images2.fanpop.com/image/photos/9400000/Beautiful-Butterflies-butterflies-9481204-1600-1200.jpg\n",
            "[%] File Downloaded !\n",
            "\n",
            "[%] Downloading Image #22 from https://1.bp.blogspot.com/-Hp5g1u4t3y4/V_pDBT23TGI/AAAAAAAAN3U/L7IcqPDtLggIcczH5qVGONcyEr4NnW7wgCLcB/s1600/playing-baby-with-wearing-sunflower-hat-pics.jpg\n",
            "[%] File Downloaded !\n",
            "\n",
            "[%] Downloading Image #23 from https://www.donerland.co.kr/files/2015/12/21/60809376717f011cfbf097b6e1e1175b112121.jpg\n",
            "[%] File Downloaded !\n",
            "\n",
            "[%] Downloading Image #24 from https://cdn.telanganatoday.com/wp-content/uploads/2017/11/062854IMG_6315-364x510.jpg\n",
            "[%] File Downloaded !\n",
            "\n",
            "[%] Downloading Image #25 from https://i.pinimg.com/originals/7d/ce/1a/7dce1a2bf3026ab0ecd4758cb6dc26c2.jpg\n",
            "[%] File Downloaded !\n",
            "\n",
            "[%] Downloading Image #26 from https://2.bp.blogspot.com/-3XSvEEfaveQ/V-DOVGkmPuI/AAAAAAAANZs/oRkLCvEgRTQkINdch37qK8nk23_XJMNWACLcB/s1600/babysestting-on-the-chair-on-the-beach-wallpaperspics-images.jpg\n",
            "[%] File Downloaded !\n",
            "\n",
            "[%] Downloading Image #27 from http://pm1.narvii.com/6288/1d534b462d3bf951d3e5bdeb91bbb20b4314dae2_hq.jpg\n",
            "[%] File Downloaded !\n",
            "\n",
            "\n",
            "\n",
            "[!!]Indexing page: 4\n",
            "\n",
            "[%] Indexed 8 Images on Page 4.\n",
            "\n",
            "===============================================\n",
            "\n",
            "[%] Downloading Image #28 from https://www.tattoosbag.com/wp-content/uploads/2016/08/Preety-Sunflower-Tattoo-Design-TB149-600x582.jpg\n",
            "[%] File Downloaded !\n",
            "\n",
            "[%] Downloading Image #29 from http://www.perfect-wedding-day.com/image-files/xbutterfly-wedding-cake-10.jpg.pagespeed.ic.4gyshe3JeM.jpg\n",
            "[%] File Downloaded !\n",
            "\n",
            "[%] Downloading Image #30 from https://4.bp.blogspot.com/-wBy93JpOAFI/WQsckHxmLCI/AAAAAAAAPAw/VjqxsslBjwQ-4ef4ajX1bi6ppB1qNNqxQCLcB/s1600/IMG_9878.jpg\n",
            "[%] File Downloaded !\n",
            "\n",
            "\n",
            "\n",
            "[%] Done. Downloaded 30 images.\n",
            "\n",
            "===============================================\n",
            "\n",
            "time: 8.04 s (started: 2021-05-20 13:22:17 +00:00)\n"
          ],
          "name": "stdout"
        }
      ]
    },
    {
      "cell_type": "code",
      "metadata": {
        "id": "2fkX9KFvjQXj",
        "colab": {
          "base_uri": "https://localhost:8080/"
        },
        "outputId": "55d86ab3-77cf-4247-d4fa-e576a143b986"
      },
      "source": [
        "import os\n",
        "import numpy as np\n",
        "import pandas as pd\n",
        "import matplotlib.pyplot as plt\n",
        "from skimage.io import imread\n",
        "from skimage.transform import resize\n",
        "\n",
        "datadir = '/content/images'\n",
        "\n",
        "categories = ['autorickshaws','preety sunflower ','rose '] # Name the folder with these categories\n",
        "target = []\n",
        "flat_data = []\n",
        "\n",
        "for i in categories:\n",
        "  class_num= categories.index(i)\n",
        "  path = os.path.join(datadir,i)\n",
        "  #print(path)\n",
        "  for img in os.listdir(path):\n",
        "    img_array = imread(os.path.join(path,img))\n",
        "    img_resize = resize(img_array,(150,150,3)) # Value gets converted 0-1 from 0-255\n",
        "    flat_data.append(np.ndarray.flatten(img_resize))\n",
        "    \n",
        "    target.append(class_num)\n",
        "    \n",
        "    \n",
        "\n",
        "flat_data = np.array(flat_data)\n",
        "target = np.array(target)\n",
        "images = np.array(images)"
      ],
      "execution_count": null,
      "outputs": [
        {
          "output_type": "stream",
          "text": [
            "time: 32.4 s (started: 2021-05-20 13:52:05 +00:00)\n"
          ],
          "name": "stdout"
        }
      ]
    },
    {
      "cell_type": "code",
      "metadata": {
        "id": "GAMYWOsllSar",
        "colab": {
          "base_uri": "https://localhost:8080/"
        },
        "outputId": "5278edf0-078b-458a-abcc-37bb781beade"
      },
      "source": [
        "len(flat_data[0])"
      ],
      "execution_count": null,
      "outputs": [
        {
          "output_type": "execute_result",
          "data": {
            "text/plain": [
              "67500"
            ]
          },
          "metadata": {
            "tags": []
          },
          "execution_count": 120
        },
        {
          "output_type": "stream",
          "text": [
            "time: 7.67 ms (started: 2021-05-20 13:23:15 +00:00)\n"
          ],
          "name": "stdout"
        }
      ]
    },
    {
      "cell_type": "markdown",
      "metadata": {
        "id": "TaibypgsDXfM"
      },
      "source": [
        ""
      ]
    },
    {
      "cell_type": "code",
      "metadata": {
        "id": "YRwEZJXrmE31",
        "colab": {
          "base_uri": "https://localhost:8080/"
        },
        "outputId": "6cfb3a78-e1fc-4dff-c945-42283fe3174b"
      },
      "source": [
        "target"
      ],
      "execution_count": null,
      "outputs": [
        {
          "output_type": "execute_result",
          "data": {
            "text/plain": [
              "array([0, 0, 0, 0, 0, 0, 0, 0, 0, 0, 0, 0, 0, 0, 0, 0, 0, 0, 0, 0, 0, 0,\n",
              "       0, 0, 0, 0, 0, 0, 0, 0, 0, 0, 0, 0, 0, 0, 0, 0, 0, 0, 0, 1, 1, 1,\n",
              "       1, 1, 1, 1, 1, 1, 1, 1, 1, 1, 1, 1, 1, 1, 1, 1, 1, 1, 1, 1, 1, 1,\n",
              "       1, 1, 1, 1, 1, 2, 2, 2, 2, 2, 2, 2, 2, 2, 2, 2, 2, 2, 2, 2, 2, 2,\n",
              "       2, 2, 2, 2, 2, 2, 2, 2, 2, 2, 2, 2, 2, 2, 2, 2, 2, 2, 2, 2, 2, 2,\n",
              "       2, 2, 2, 2])"
            ]
          },
          "metadata": {
            "tags": []
          },
          "execution_count": 121
        },
        {
          "output_type": "stream",
          "text": [
            "time: 7.49 ms (started: 2021-05-20 13:23:20 +00:00)\n"
          ],
          "name": "stdout"
        }
      ]
    },
    {
      "cell_type": "code",
      "metadata": {
        "id": "lXckcNfQmH0y",
        "colab": {
          "base_uri": "https://localhost:8080/",
          "height": 298
        },
        "outputId": "e8fc9d7c-6f5e-4cf5-fab8-aa09658e5a5b"
      },
      "source": [
        "unique,count = np.unique(target,return_counts=True)\n",
        "plt.bar(categories,count)"
      ],
      "execution_count": null,
      "outputs": [
        {
          "output_type": "execute_result",
          "data": {
            "text/plain": [
              "<BarContainer object of 3 artists>"
            ]
          },
          "metadata": {
            "tags": []
          },
          "execution_count": 122
        },
        {
          "output_type": "display_data",
          "data": {
            "image/png": "[encoded data removed]",
            "text/plain": [
              "<Figure size 432x288 with 1 Axes>"
            ]
          },
          "metadata": {
            "tags": [],
            "needs_background": "light"
          }
        },
        {
          "output_type": "stream",
          "text": [
            "time: 132 ms (started: 2021-05-20 13:23:25 +00:00)\n"
          ],
          "name": "stdout"
        }
      ]
    },
    {
      "cell_type": "code",
      "metadata": {
        "id": "1c9rmGf1mUiN",
        "colab": {
          "base_uri": "https://localhost:8080/"
        },
        "outputId": "1f3e28b9-573c-4463-859f-d13ef0605ff2"
      },
      "source": [
        "#Split data into Training and testing\n",
        "from sklearn.model_selection import train_test_split\n",
        "x_train,x_test,y_train,y_test = train_test_split(flat_data,target,\n",
        "                                                  test_size=0.3,random_state=109)"
      ],
      "execution_count": null,
      "outputs": [
        {
          "output_type": "stream",
          "text": [
            "time: 26.4 ms (started: 2021-05-20 13:23:36 +00:00)\n"
          ],
          "name": "stdout"
        }
      ]
    },
    {
      "cell_type": "code",
      "metadata": {
        "id": "zQoyVX7Xo6cJ",
        "colab": {
          "base_uri": "https://localhost:8080/"
        },
        "outputId": "5e2c419f-d336-4e0d-bf78-480dd5cdfe89"
      },
      "source": [
        "from sklearn.model_selection import GridSearchCV\n",
        "from sklearn import svm\n",
        "param_grid = [\n",
        "              {'C':[1,10,100,1000],'kernel':['linear']},\n",
        "              {'C':[1,10,100,1000],'gamma':[0.001,0.0001],'kernel':['rbf']},\n",
        "            ]\n",
        "\n",
        "svc = svm.SVC(probability=True)\n",
        "clf = GridSearchCV(svc,param_grid)\n",
        "clf.fit(x_train,y_train)\n"
      ],
      "execution_count": null,
      "outputs": [
        {
          "output_type": "execute_result",
          "data": {
            "text/plain": [
              "GridSearchCV(cv=None, error_score=nan,\n",
              "             estimator=SVC(C=1.0, break_ties=False, cache_size=200,\n",
              "                           class_weight=None, coef0=0.0,\n",
              "                           decision_function_shape='ovr', degree=3,\n",
              "                           gamma='scale', kernel='rbf', max_iter=-1,\n",
              "                           probability=True, random_state=None, shrinking=True,\n",
              "                           tol=0.001, verbose=False),\n",
              "             iid='deprecated', n_jobs=None,\n",
              "             param_grid=[{'C': [1, 10, 100, 1000], 'kernel': ['linear']},\n",
              "                         {'C': [1, 10, 100, 1000], 'gamma': [0.001, 0.0001],\n",
              "                          'kernel': ['rbf']}],\n",
              "             pre_dispatch='2*n_jobs', refit=True, return_train_score=False,\n",
              "             scoring=None, verbose=0)"
            ]
          },
          "metadata": {
            "tags": []
          },
          "execution_count": 124
        },
        {
          "output_type": "stream",
          "text": [
            "time: 2min 46s (started: 2021-05-20 13:23:39 +00:00)\n"
          ],
          "name": "stdout"
        }
      ]
    },
    {
      "cell_type": "code",
      "metadata": {
        "id": "98yB2w751cXk",
        "colab": {
          "base_uri": "https://localhost:8080/"
        },
        "outputId": "0e3ad155-29f2-41b8-cfd6-88c07f007b76"
      },
      "source": [
        "y_pred = clf.predict(x_test)\n",
        "y_pred"
      ],
      "execution_count": null,
      "outputs": [
        {
          "output_type": "execute_result",
          "data": {
            "text/plain": [
              "array([0, 2, 0, 0, 0, 2, 2, 2, 2, 0, 2, 0, 0, 2, 2, 0, 2, 2, 2, 0, 0, 2,\n",
              "       0, 2, 2, 2, 2, 2, 0, 0, 1, 0, 0, 0, 2])"
            ]
          },
          "metadata": {
            "tags": []
          },
          "execution_count": 125
        },
        {
          "output_type": "stream",
          "text": [
            "time: 304 ms (started: 2021-05-20 13:26:55 +00:00)\n"
          ],
          "name": "stdout"
        }
      ]
    },
    {
      "cell_type": "code",
      "metadata": {
        "id": "PIZHjdIE3kX1"
      },
      "source": [
        ""
      ],
      "execution_count": null,
      "outputs": []
    },
    {
      "cell_type": "code",
      "metadata": {
        "id": "aPaxaT1A65Bv",
        "colab": {
          "base_uri": "https://localhost:8080/"
        },
        "outputId": "310875ce-db2f-4d01-fa3e-b4b75964661c"
      },
      "source": [
        "y_test"
      ],
      "execution_count": null,
      "outputs": [
        {
          "output_type": "execute_result",
          "data": {
            "text/plain": [
              "array([2, 1, 0, 2, 0, 2, 2, 1, 2, 0, 0, 2, 1, 2, 1, 0, 2, 1, 2, 0, 0, 2,\n",
              "       0, 1, 2, 2, 2, 1, 2, 0, 2, 0, 0, 0, 1])"
            ]
          },
          "metadata": {
            "tags": []
          },
          "execution_count": 126
        },
        {
          "output_type": "stream",
          "text": [
            "time: 6.02 ms (started: 2021-05-20 13:27:41 +00:00)\n"
          ],
          "name": "stdout"
        }
      ]
    },
    {
      "cell_type": "code",
      "metadata": {
        "id": "QLnYrRKV67Jt",
        "colab": {
          "base_uri": "https://localhost:8080/"
        },
        "outputId": "bf9580d5-55f0-48c1-f745-533df1301cec"
      },
      "source": [
        "from sklearn.metrics import accuracy_score,confusion_matrix"
      ],
      "execution_count": null,
      "outputs": [
        {
          "output_type": "stream",
          "text": [
            "time: 1.2 ms (started: 2021-05-20 13:27:46 +00:00)\n"
          ],
          "name": "stdout"
        }
      ]
    },
    {
      "cell_type": "code",
      "metadata": {
        "id": "E8lGzHpY7f4N",
        "colab": {
          "base_uri": "https://localhost:8080/"
        },
        "outputId": "843e0254-b773-46cd-902e-042d5080f3d3"
      },
      "source": [
        "accuracy_score(y_pred,y_test)"
      ],
      "execution_count": null,
      "outputs": [
        {
          "output_type": "execute_result",
          "data": {
            "text/plain": [
              "0.6"
            ]
          },
          "metadata": {
            "tags": []
          },
          "execution_count": 128
        },
        {
          "output_type": "stream",
          "text": [
            "time: 7.09 ms (started: 2021-05-20 13:27:52 +00:00)\n"
          ],
          "name": "stdout"
        }
      ]
    },
    {
      "cell_type": "code",
      "metadata": {
        "id": "FdTz3uj27ly-",
        "colab": {
          "base_uri": "https://localhost:8080/"
        },
        "outputId": "a50199eb-64ef-4c38-f959-4eb886fbec2a"
      },
      "source": [
        "confusion_matrix(y_pred,y_test)"
      ],
      "execution_count": null,
      "outputs": [
        {
          "output_type": "execute_result",
          "data": {
            "text/plain": [
              "array([[11,  1,  4],\n",
              "       [ 0,  0,  1],\n",
              "       [ 1,  7, 10]])"
            ]
          },
          "metadata": {
            "tags": []
          },
          "execution_count": 129
        },
        {
          "output_type": "stream",
          "text": [
            "time: 7.24 ms (started: 2021-05-20 13:27:56 +00:00)\n"
          ],
          "name": "stdout"
        }
      ]
    },
    {
      "cell_type": "code",
      "metadata": {
        "id": "EjYzRa-N8GEj",
        "colab": {
          "base_uri": "https://localhost:8080/"
        },
        "outputId": "c23d68a0-2989-4477-d4da-1dcdb36ddffb"
      },
      "source": [
        "import pickle\n",
        "pickle.dump(clf,open('img_model.p','wb'))"
      ],
      "execution_count": null,
      "outputs": [
        {
          "output_type": "stream",
          "text": [
            "time: 71.9 ms (started: 2021-05-20 13:27:59 +00:00)\n"
          ],
          "name": "stdout"
        }
      ]
    },
    {
      "cell_type": "code",
      "metadata": {
        "id": "5XKQ0JZC9Cm2",
        "colab": {
          "base_uri": "https://localhost:8080/"
        },
        "outputId": "a824ffcd-4712-4a3e-a005-02b0d795d004"
      },
      "source": [
        "model = pickle.load(open('img_model.p','rb'))"
      ],
      "execution_count": null,
      "outputs": [
        {
          "output_type": "stream",
          "text": [
            "time: 35.7 ms (started: 2021-05-20 13:28:03 +00:00)\n"
          ],
          "name": "stdout"
        }
      ]
    },
    {
      "cell_type": "code",
      "metadata": {
        "id": "DqY0UFmq9Qbf",
        "colab": {
          "base_uri": "https://localhost:8080/",
          "height": 336
        },
        "outputId": "d06cbfd7-4ccf-4bcc-b8ce-f5f0002f8261"
      },
      "source": [
        "flat_data = []\n",
        "url = input('Enter your url')\n",
        "img = imread(url)\n",
        "img_resize = resize(img_array,(150,150,3)) # Value gets converted 0-1 from 0-255\n",
        "flat_data.append(np.ndarray.flatten(img_resize))\n",
        "flat_data = np.array(flat_data)\n",
        "print(img.shape)\n",
        "plt.imshow(img_resize)   \n",
        "y_out = model.predict(flat_data)\n",
        "y_out = categories[y_out[0]]\n",
        "print(f'PREDICTED OUTPUT :{y_out}')"
      ],
      "execution_count": null,
      "outputs": [
        {
          "output_type": "stream",
          "text": [
            "Enter your urlhttps://tse3.mm.bing.net/th?id=OIP.G4dA7a07gNqMJz0Z2PL1JQHaE8&pid=Api&P=0&w=228&h=153\n",
            "(152, 228, 3)\n",
            "PREDICTED OUTPUT :rose \n"
          ],
          "name": "stdout"
        },
        {
          "output_type": "display_data",
          "data": {
            "image/png": "[encoded data removed]",
            "text/plain": [
              "<Figure size 432x288 with 1 Axes>"
            ]
          },
          "metadata": {
            "tags": [],
            "needs_background": "light"
          }
        },
        {
          "output_type": "stream",
          "text": [
            "time: 48.5 s (started: 2021-05-20 13:28:07 +00:00)\n"
          ],
          "name": "stdout"
        }
      ]
    },
    {
      "cell_type": "code",
      "metadata": {
        "id": "YvP0VGbkDoPJ",
        "colab": {
          "base_uri": "https://localhost:8080/"
        },
        "outputId": "46632ab3-7168-414d-8648-381521a523fa"
      },
      "source": [
        "!pip install streamlit\n",
        "\n",
        "!pip install pyngrok==4.1.1\n",
        "from pyngrok import ngrok"
      ],
      "execution_count": null,
      "outputs": [
        {
          "output_type": "stream",
          "text": [
            "Requirement already satisfied: streamlit in /usr/local/lib/python3.7/dist-packages (0.82.0)\n",
            "Requirement already satisfied: packaging in /usr/local/lib/python3.7/dist-packages (from streamlit) (20.9)\n",
            "Requirement already satisfied: pandas>=0.21.0 in /usr/local/lib/python3.7/dist-packages (from streamlit) (1.1.5)\n",
            "Requirement already satisfied: protobuf!=3.11,>=3.6.0 in /usr/local/lib/python3.7/dist-packages (from streamlit) (3.12.4)\n",
            "Requirement already satisfied: validators in /usr/local/lib/python3.7/dist-packages (from streamlit) (0.18.2)\n",
            "Requirement already satisfied: base58 in /usr/local/lib/python3.7/dist-packages (from streamlit) (2.1.0)\n",
            "Requirement already satisfied: requests in /usr/local/lib/python3.7/dist-packages (from streamlit) (2.23.0)\n",
            "Requirement already satisfied: click<8.0,>=7.0 in /usr/local/lib/python3.7/dist-packages (from streamlit) (7.1.2)\n",
            "Requirement already satisfied: toml in /usr/local/lib/python3.7/dist-packages (from streamlit) (0.10.2)\n",
            "Requirement already satisfied: numpy in /usr/local/lib/python3.7/dist-packages (from streamlit) (1.19.5)\n",
            "Requirement already satisfied: tzlocal in /usr/local/lib/python3.7/dist-packages (from streamlit) (1.5.1)\n",
            "Requirement already satisfied: gitpython in /usr/local/lib/python3.7/dist-packages (from streamlit) (3.1.17)\n",
            "Requirement already satisfied: astor in /usr/local/lib/python3.7/dist-packages (from streamlit) (0.8.1)\n",
            "Requirement already satisfied: blinker in /usr/local/lib/python3.7/dist-packages (from streamlit) (1.4)\n",
            "Requirement already satisfied: watchdog; platform_system != \"Darwin\" in /usr/local/lib/python3.7/dist-packages (from streamlit) (2.1.2)\n",
            "Requirement already satisfied: pillow>=6.2.0 in /usr/local/lib/python3.7/dist-packages (from streamlit) (7.1.2)\n",
            "Requirement already satisfied: python-dateutil in /usr/local/lib/python3.7/dist-packages (from streamlit) (2.8.1)\n",
            "Requirement already satisfied: altair>=3.2.0 in /usr/local/lib/python3.7/dist-packages (from streamlit) (4.1.0)\n",
            "Requirement already satisfied: pydeck>=0.1.dev5 in /usr/local/lib/python3.7/dist-packages (from streamlit) (0.6.2)\n",
            "Requirement already satisfied: pyarrow; python_version < \"3.9\" in /usr/local/lib/python3.7/dist-packages (from streamlit) (3.0.0)\n",
            "Requirement already satisfied: cachetools>=4.0 in /usr/local/lib/python3.7/dist-packages (from streamlit) (4.2.2)\n",
            "Requirement already satisfied: tornado>=5.0 in /usr/local/lib/python3.7/dist-packages (from streamlit) (5.1.1)\n",
            "Requirement already satisfied: pyparsing>=2.0.2 in /usr/local/lib/python3.7/dist-packages (from packaging->streamlit) (2.4.7)\n",
            "Requirement already satisfied: pytz>=2017.2 in /usr/local/lib/python3.7/dist-packages (from pandas>=0.21.0->streamlit) (2018.9)\n",
            "Requirement already satisfied: six>=1.9 in /usr/local/lib/python3.7/dist-packages (from protobuf!=3.11,>=3.6.0->streamlit) (1.15.0)\n",
            "Requirement already satisfied: setuptools in /usr/local/lib/python3.7/dist-packages (from protobuf!=3.11,>=3.6.0->streamlit) (56.1.0)\n",
            "Requirement already satisfied: decorator>=3.4.0 in /usr/local/lib/python3.7/dist-packages (from validators->streamlit) (4.4.2)\n",
            "Requirement already satisfied: certifi>=2017.4.17 in /usr/local/lib/python3.7/dist-packages (from requests->streamlit) (2020.12.5)\n",
            "Requirement already satisfied: idna<3,>=2.5 in /usr/local/lib/python3.7/dist-packages (from requests->streamlit) (2.10)\n",
            "Requirement already satisfied: chardet<4,>=3.0.2 in /usr/local/lib/python3.7/dist-packages (from requests->streamlit) (3.0.4)\n",
            "Requirement already satisfied: urllib3!=1.25.0,!=1.25.1,<1.26,>=1.21.1 in /usr/local/lib/python3.7/dist-packages (from requests->streamlit) (1.24.3)\n",
            "Requirement already satisfied: gitdb<5,>=4.0.1 in /usr/local/lib/python3.7/dist-packages (from gitpython->streamlit) (4.0.7)\n",
            "Requirement already satisfied: typing-extensions>=3.7.4.0; python_version < \"3.8\" in /usr/local/lib/python3.7/dist-packages (from gitpython->streamlit) (3.7.4.3)\n",
            "Requirement already satisfied: entrypoints in /usr/local/lib/python3.7/dist-packages (from altair>=3.2.0->streamlit) (0.3)\n",
            "Requirement already satisfied: jsonschema in /usr/local/lib/python3.7/dist-packages (from altair>=3.2.0->streamlit) (2.6.0)\n",
            "Requirement already satisfied: toolz in /usr/local/lib/python3.7/dist-packages (from altair>=3.2.0->streamlit) (0.11.1)\n",
            "Requirement already satisfied: jinja2 in /usr/local/lib/python3.7/dist-packages (from altair>=3.2.0->streamlit) (2.11.3)\n",
            "Requirement already satisfied: ipykernel>=5.1.2; python_version >= \"3.4\" in /usr/local/lib/python3.7/dist-packages (from pydeck>=0.1.dev5->streamlit) (5.5.5)\n",
            "Requirement already satisfied: ipywidgets>=7.0.0 in /usr/local/lib/python3.7/dist-packages (from pydeck>=0.1.dev5->streamlit) (7.6.3)\n",
            "Requirement already satisfied: traitlets>=4.3.2 in /usr/local/lib/python3.7/dist-packages (from pydeck>=0.1.dev5->streamlit) (5.0.5)\n",
            "Requirement already satisfied: smmap<5,>=3.0.1 in /usr/local/lib/python3.7/dist-packages (from gitdb<5,>=4.0.1->gitpython->streamlit) (4.0.0)\n",
            "Requirement already satisfied: MarkupSafe>=0.23 in /usr/local/lib/python3.7/dist-packages (from jinja2->altair>=3.2.0->streamlit) (2.0.0)\n",
            "Requirement already satisfied: ipython>=5.0.0 in /usr/local/lib/python3.7/dist-packages (from ipykernel>=5.1.2; python_version >= \"3.4\"->pydeck>=0.1.dev5->streamlit) (5.5.0)\n",
            "Requirement already satisfied: jupyter-client in /usr/local/lib/python3.7/dist-packages (from ipykernel>=5.1.2; python_version >= \"3.4\"->pydeck>=0.1.dev5->streamlit) (5.3.5)\n",
            "Requirement already satisfied: nbformat>=4.2.0 in /usr/local/lib/python3.7/dist-packages (from ipywidgets>=7.0.0->pydeck>=0.1.dev5->streamlit) (5.1.3)\n",
            "Requirement already satisfied: jupyterlab-widgets>=1.0.0; python_version >= \"3.6\" in /usr/local/lib/python3.7/dist-packages (from ipywidgets>=7.0.0->pydeck>=0.1.dev5->streamlit) (1.0.0)\n",
            "Requirement already satisfied: widgetsnbextension~=3.5.0 in /usr/local/lib/python3.7/dist-packages (from ipywidgets>=7.0.0->pydeck>=0.1.dev5->streamlit) (3.5.1)\n",
            "Requirement already satisfied: ipython-genutils in /usr/local/lib/python3.7/dist-packages (from traitlets>=4.3.2->pydeck>=0.1.dev5->streamlit) (0.2.0)\n",
            "Requirement already satisfied: pickleshare in /usr/local/lib/python3.7/dist-packages (from ipython>=5.0.0->ipykernel>=5.1.2; python_version >= \"3.4\"->pydeck>=0.1.dev5->streamlit) (0.7.5)\n",
            "Requirement already satisfied: prompt-toolkit<2.0.0,>=1.0.4 in /usr/local/lib/python3.7/dist-packages (from ipython>=5.0.0->ipykernel>=5.1.2; python_version >= \"3.4\"->pydeck>=0.1.dev5->streamlit) (1.0.18)\n",
            "Requirement already satisfied: pygments in /usr/local/lib/python3.7/dist-packages (from ipython>=5.0.0->ipykernel>=5.1.2; python_version >= \"3.4\"->pydeck>=0.1.dev5->streamlit) (2.6.1)\n",
            "Requirement already satisfied: pexpect; sys_platform != \"win32\" in /usr/local/lib/python3.7/dist-packages (from ipython>=5.0.0->ipykernel>=5.1.2; python_version >= \"3.4\"->pydeck>=0.1.dev5->streamlit) (4.8.0)\n",
            "Requirement already satisfied: simplegeneric>0.8 in /usr/local/lib/python3.7/dist-packages (from ipython>=5.0.0->ipykernel>=5.1.2; python_version >= \"3.4\"->pydeck>=0.1.dev5->streamlit) (0.8.1)\n",
            "Requirement already satisfied: pyzmq>=13 in /usr/local/lib/python3.7/dist-packages (from jupyter-client->ipykernel>=5.1.2; python_version >= \"3.4\"->pydeck>=0.1.dev5->streamlit) (22.0.3)\n",
            "Requirement already satisfied: jupyter-core>=4.6.0 in /usr/local/lib/python3.7/dist-packages (from jupyter-client->ipykernel>=5.1.2; python_version >= \"3.4\"->pydeck>=0.1.dev5->streamlit) (4.7.1)\n",
            "Requirement already satisfied: notebook>=4.4.1 in /usr/local/lib/python3.7/dist-packages (from widgetsnbextension~=3.5.0->ipywidgets>=7.0.0->pydeck>=0.1.dev5->streamlit) (5.3.1)\n",
            "Requirement already satisfied: wcwidth in /usr/local/lib/python3.7/dist-packages (from prompt-toolkit<2.0.0,>=1.0.4->ipython>=5.0.0->ipykernel>=5.1.2; python_version >= \"3.4\"->pydeck>=0.1.dev5->streamlit) (0.2.5)\n",
            "Requirement already satisfied: ptyprocess>=0.5 in /usr/local/lib/python3.7/dist-packages (from pexpect; sys_platform != \"win32\"->ipython>=5.0.0->ipykernel>=5.1.2; python_version >= \"3.4\"->pydeck>=0.1.dev5->streamlit) (0.7.0)\n",
            "Requirement already satisfied: Send2Trash in /usr/local/lib/python3.7/dist-packages (from notebook>=4.4.1->widgetsnbextension~=3.5.0->ipywidgets>=7.0.0->pydeck>=0.1.dev5->streamlit) (1.5.0)\n",
            "Requirement already satisfied: terminado>=0.8.1 in /usr/local/lib/python3.7/dist-packages (from notebook>=4.4.1->widgetsnbextension~=3.5.0->ipywidgets>=7.0.0->pydeck>=0.1.dev5->streamlit) (0.9.5)\n",
            "Requirement already satisfied: nbconvert in /usr/local/lib/python3.7/dist-packages (from notebook>=4.4.1->widgetsnbextension~=3.5.0->ipywidgets>=7.0.0->pydeck>=0.1.dev5->streamlit) (5.6.1)\n",
            "Requirement already satisfied: pandocfilters>=1.4.1 in /usr/local/lib/python3.7/dist-packages (from nbconvert->notebook>=4.4.1->widgetsnbextension~=3.5.0->ipywidgets>=7.0.0->pydeck>=0.1.dev5->streamlit) (1.4.3)\n",
            "Requirement already satisfied: mistune<2,>=0.8.1 in /usr/local/lib/python3.7/dist-packages (from nbconvert->notebook>=4.4.1->widgetsnbextension~=3.5.0->ipywidgets>=7.0.0->pydeck>=0.1.dev5->streamlit) (0.8.4)\n",
            "Requirement already satisfied: defusedxml in /usr/local/lib/python3.7/dist-packages (from nbconvert->notebook>=4.4.1->widgetsnbextension~=3.5.0->ipywidgets>=7.0.0->pydeck>=0.1.dev5->streamlit) (0.7.1)\n",
            "Requirement already satisfied: bleach in /usr/local/lib/python3.7/dist-packages (from nbconvert->notebook>=4.4.1->widgetsnbextension~=3.5.0->ipywidgets>=7.0.0->pydeck>=0.1.dev5->streamlit) (3.3.0)\n",
            "Requirement already satisfied: testpath in /usr/local/lib/python3.7/dist-packages (from nbconvert->notebook>=4.4.1->widgetsnbextension~=3.5.0->ipywidgets>=7.0.0->pydeck>=0.1.dev5->streamlit) (0.4.4)\n",
            "Requirement already satisfied: webencodings in /usr/local/lib/python3.7/dist-packages (from bleach->nbconvert->notebook>=4.4.1->widgetsnbextension~=3.5.0->ipywidgets>=7.0.0->pydeck>=0.1.dev5->streamlit) (0.5.1)\n",
            "Requirement already satisfied: pyngrok==4.1.1 in /usr/local/lib/python3.7/dist-packages (4.1.1)\n",
            "Requirement already satisfied: future in /usr/local/lib/python3.7/dist-packages (from pyngrok==4.1.1) (0.16.0)\n",
            "Requirement already satisfied: PyYAML in /usr/local/lib/python3.7/dist-packages (from pyngrok==4.1.1) (3.13)\n",
            "time: 5.69 s (started: 2021-05-20 13:29:05 +00:00)\n"
          ],
          "name": "stdout"
        }
      ]
    },
    {
      "cell_type": "code",
      "metadata": {
        "id": "hn2D36GAGB1Y",
        "colab": {
          "base_uri": "https://localhost:8080/"
        },
        "outputId": "f3a5e1cb-0515-4468-f567-05b64a16edcc"
      },
      "source": [
        "%%writefile app.py\n",
        "import streamlit as st\n",
        "import numpy as np\n",
        "from skimage.io import imread\n",
        "from skimage.transform import resize\n",
        "import pickle\n",
        "from PIL import Image\n",
        "st.title('Image classifier using Machine Learning')\n",
        "st.text('Upload the Image')\n",
        "\n",
        "model = pickle.load(open('img_model.p','rb'))\n",
        "uploaded_file = st.file_uploader(\"Choose an image...\",type= \"jpg\")\n",
        "if uploaded_file is not None:\n",
        "  img = Image.open(uploaded_file)\n",
        "  st.image(img,caption='Uploaded Image')\n",
        "  if st.button('Predict'):\n",
        "    categories = ['autorickshaws','preety sunflower ','rose ']\n",
        "    st.write('Result..')\n",
        "    flat_data=[]\n",
        "    img = np.array(img)\n",
        "    img_resize = resize(img,(150,150,3)) # Value gets converted 0-1 from 0-255\n",
        "    flat_data.append(np.ndarray.flatten(img_resize))\n",
        "    flat_data = np.array(flat_data)  \n",
        "    y_out = model.predict(flat_data)\n",
        "    y_out = categories[y_out[0]]\n",
        "    st.title(f'PREDICTED OUTPUT :{y_out}')\n"
      ],
      "execution_count": null,
      "outputs": [
        {
          "output_type": "stream",
          "text": [
            "Overwriting app.py\n",
            "time: 5.51 ms (started: 2021-05-20 14:01:53 +00:00)\n"
          ],
          "name": "stdout"
        }
      ]
    },
    {
      "cell_type": "code",
      "metadata": {
        "id": "HZEJVXPOm1I8"
      },
      "source": [
        "from google.colab import drive\n",
        "drive.mount('/content/drive')"
      ],
      "execution_count": null,
      "outputs": []
    },
    {
      "cell_type": "code",
      "metadata": {
        "id": "w_r0YCegHsTl",
        "colab": {
          "base_uri": "https://localhost:8080/",
          "height": 52
        },
        "outputId": "7866f8b5-028e-42ad-a9c0-e42cc2363ece"
      },
      "source": [
        "!nohup streamlit run app.py &\n",
        "url = ngrok.connect(port='8501')\n",
        "url"
      ],
      "execution_count": null,
      "outputs": [
        {
          "output_type": "stream",
          "text": [
            "nohup: appending output to 'nohup.out'\n"
          ],
          "name": "stdout"
        },
        {
          "output_type": "execute_result",
          "data": {
            "application/vnd.google.colaboratory.intrinsic+json": {
              "type": "string"
            },
            "text/plain": [
              "'http://ba1e224f1c68.ngrok.io'"
            ]
          },
          "metadata": {
            "tags": []
          },
          "execution_count": 142
        },
        {
          "output_type": "stream",
          "text": [
            "time: 334 ms (started: 2021-05-20 13:53:40 +00:00)\n"
          ],
          "name": "stdout"
        }
      ]
    },
    {
      "cell_type": "code",
      "metadata": {
        "id": "sCq4i_2gIABr"
      },
      "source": [
        ""
      ],
      "execution_count": null,
      "outputs": []
    }
  ]
}